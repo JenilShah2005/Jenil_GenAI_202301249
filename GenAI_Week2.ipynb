{
 "cells": [
  {
   "cell_type": "code",
   "execution_count": 10,
   "id": "3ca10a82-a526-467c-ba91-37d2adbc7e4d",
   "metadata": {},
   "outputs": [],
   "source": [
    "import nltk\n",
    "from nltk.corpus import stopwords\n",
    "from nltk.corpus import wordnet\n",
    "from nltk.stem import WordNetLemmatizer\n",
    "from string import punctuation\n",
    "from nltk import pos_tag\n",
    "def get_wordnet_pos(treebank_tag):\n",
    "    if treebank_tag.startswith('J'):\n",
    "        return wordnet.ADJ\n",
    "    elif treebank_tag.startswith('V'):\n",
    "        return wordnet.VERB\n",
    "    elif treebank_tag.startswith('N'):\n",
    "        return wordnet.NOUN\n",
    "    elif treebank_tag.startswith('R'):\n",
    "        return wordnet.ADV\n",
    "    else:\n",
    "        return wordnet.NOUN"
   ]
  },
  {
   "cell_type": "code",
   "execution_count": 11,
   "id": "bd994574",
   "metadata": {},
   "outputs": [
    {
     "name": "stdout",
     "output_type": "stream",
     "text": [
      "['the', 'sun', 'was', 'setting', 'behind', 'the', 'hills', ',', 'casting', 'a', 'warm', 'golden', 'glow', 'across', 'the', 'valley', '.']\n",
      "['sun', 'setting', 'behind', 'hills', 'casting', 'warm', 'golden', 'glow', 'across', 'valley']\n",
      "['sun', 'set', 'behind', 'hill', 'cast', 'warm', 'golden', 'glow', 'across', 'valley']\n"
     ]
    }
   ],
   "source": [
    "sentence=\"The sun was setting behind the hills, casting a warm golden glow across the valley.\"\n",
    "sentence=sentence.lower()\n",
    "par_token=nltk.word_tokenize(sentence)\n",
    "print(par_token)\n",
    "setstopwords=set(stopwords.words('english'))\n",
    "lemmatizer=WordNetLemmatizer()\n",
    "final_token=[]\n",
    "for x in par_token:\n",
    "    if x not in setstopwords and x not in punctuation:\n",
    "        final_token.append(x)\n",
    "print(final_token)\n",
    "pos_tags=pos_tag(final_token)\n",
    "output_tokens=[lemmatizer.lemmatize(word, get_wordnet_pos(pos)) for word, pos in pos_tags]\n",
    "print(output_tokens)"
   ]
  },
  {
   "cell_type": "code",
   "execution_count": 12,
   "id": "2828b6bf",
   "metadata": {},
   "outputs": [],
   "source": [
    "import re"
   ]
  },
  {
   "cell_type": "code",
   "execution_count": 15,
   "id": "4e6c42fb",
   "metadata": {},
   "outputs": [
    {
     "name": "stdout",
     "output_type": "stream",
     "text": [
      "['riya.sharma23@gmail.com', 'support@techindia.in', 'hr@careers.india.co.in', 'anil.kumar@officemail.com']\n",
      "['9876543210', '9123456789', '9988776655']\n"
     ]
    }
   ],
   "source": [
    "data=\"For any queries, please contact Riya at riya.sharma23@gmail.com or call her at +91-9876543210. You can also reach out to the support team via support@techindia.in or dial 9123456789 for assistance. For job applications, send your resume to hr@careers.india.co.in or contact our office manager Anil at anil.kumar@officemail.com or phone number +91 9988776655.\"\n",
    "email_pattern=r'\\b[\\w\\.-]+@[\\w\\.-]+\\.\\w+\\b'\n",
    "phone_pattern=r'\\d{10}'\n",
    "emails=re.findall(email_pattern,data)\n",
    "phones=re.findall(phone_pattern,data)\n",
    "print(emails)\n",
    "print(phones)"
   ]
  }
 ],
 "metadata": {
  "kernelspec": {
   "display_name": "base",
   "language": "python",
   "name": "python3"
  },
  "language_info": {
   "codemirror_mode": {
    "name": "ipython",
    "version": 3
   },
   "file_extension": ".py",
   "mimetype": "text/x-python",
   "name": "python",
   "nbconvert_exporter": "python",
   "pygments_lexer": "ipython3",
   "version": "3.12.7"
  }
 },
 "nbformat": 4,
 "nbformat_minor": 5
}
