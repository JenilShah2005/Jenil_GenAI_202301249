{
 "cells": [
  {
   "cell_type": "code",
   "execution_count": 7,
   "id": "1de06cd7-9caa-465f-bc08-8e127ae9043b",
   "metadata": {},
   "outputs": [
    {
     "name": "stdout",
     "output_type": "stream",
     "text": [
      "Hello, World!\n"
     ]
    }
   ],
   "source": [
    "print(\"Hello, World!\")"
   ]
  },
  {
   "cell_type": "code",
   "execution_count": 8,
   "id": "3ca10a82-a526-467c-ba91-37d2adbc7e4d",
   "metadata": {},
   "outputs": [],
   "source": [
    "import nltk"
   ]
  },
  {
   "cell_type": "code",
   "execution_count": 9,
   "id": "08143d4a",
   "metadata": {},
   "outputs": [
    {
     "name": "stdout",
     "output_type": "stream",
     "text": [
      "['Hello', 'World', '!']\n"
     ]
    }
   ],
   "source": [
    "tokens=nltk.word_tokenize(\"Hello World!\")\n",
    "print(tokens)"
   ]
  },
  {
   "cell_type": "code",
   "execution_count": 10,
   "id": "4f79ec14",
   "metadata": {},
   "outputs": [
    {
     "name": "stdout",
     "output_type": "stream",
     "text": [
      "Hi, I am Jenil Shah.\n",
      "['Hi,', 'I', 'am', 'Jenil', 'Shah.']\n"
     ]
    }
   ],
   "source": [
    "sentence=input(\"\")\n",
    "words=sentence.split()\n",
    "print(sentence)\n",
    "print(words)"
   ]
  },
  {
   "cell_type": "code",
   "execution_count": 11,
   "id": "135ac101",
   "metadata": {},
   "outputs": [
    {
     "name": "stdout",
     "output_type": "stream",
     "text": [
      "Hi,\n",
      "I\n",
      "am\n",
      "Jenil\n",
      "Shah.\n"
     ]
    }
   ],
   "source": [
    "ans=''\n",
    "for x in sentence:\n",
    "    if x!=' ':\n",
    "        ans+=x\n",
    "    else:\n",
    "        print(ans)\n",
    "        ans=''\n",
    "print(ans)"
   ]
  },
  {
   "cell_type": "code",
   "execution_count": 12,
   "id": "e8e8a784",
   "metadata": {},
   "outputs": [
    {
     "name": "stdout",
     "output_type": "stream",
     "text": [
      "Hi\n",
      "I\n",
      "am\n",
      "Jenil\n",
      "Shah\n",
      "\n"
     ]
    }
   ],
   "source": [
    "ans=''\n",
    "for x in sentence:\n",
    "    if x!=' ' and x!=',' and x!='?' and x!='.':\n",
    "        ans+=x\n",
    "    else:\n",
    "        if ans!='':\n",
    "            print(ans)\n",
    "            ans=''\n",
    "print(ans)"
   ]
  },
  {
   "cell_type": "code",
   "execution_count": 13,
   "id": "47df6bcc-fd26-45f7-bcab-b692f5d4d017",
   "metadata": {
    "scrolled": true
   },
   "outputs": [
    {
     "name": "stdout",
     "output_type": "stream",
     "text": [
      "['Hi', ',', 'I', 'am', 'Jenil', 'Shah', '.']\n"
     ]
    }
   ],
   "source": [
    "\n",
    "tokens=nltk.word_tokenize(sentence)\n",
    "print(tokens)"
   ]
  }
 ],
 "metadata": {
  "kernelspec": {
   "display_name": "base",
   "language": "python",
   "name": "python3"
  },
  "language_info": {
   "codemirror_mode": {
    "name": "ipython",
    "version": 3
   },
   "file_extension": ".py",
   "mimetype": "text/x-python",
   "name": "python",
   "nbconvert_exporter": "python",
   "pygments_lexer": "ipython3",
   "version": "3.12.7"
  }
 },
 "nbformat": 4,
 "nbformat_minor": 5
}
